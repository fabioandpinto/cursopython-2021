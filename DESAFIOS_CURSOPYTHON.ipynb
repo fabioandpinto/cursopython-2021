{
  "nbformat": 4,
  "nbformat_minor": 0,
  "metadata": {
    "colab": {
      "name": "DESAFIOS-CURSOPYTHON.ipynb",
      "provenance": [],
      "collapsed_sections": [
        "VP4qSKqdIWps"
      ],
      "toc_visible": true,
      "authorship_tag": "ABX9TyPwu/gH+7EF2YfETsgklkYg",
      "include_colab_link": true
    },
    "kernelspec": {
      "name": "python3",
      "display_name": "Python 3"
    },
    "language_info": {
      "name": "python"
    }
  },
  "cells": [
    {
      "cell_type": "markdown",
      "metadata": {
        "id": "view-in-github",
        "colab_type": "text"
      },
      "source": [
        "<a href=\"https://colab.research.google.com/github/fabioandpinto/cursopython-2021/blob/master/DESAFIOS_CURSOPYTHON.ipynb\" target=\"_parent\"><img src=\"https://colab.research.google.com/assets/colab-badge.svg\" alt=\"Open In Colab\"/></a>"
      ]
    },
    {
      "cell_type": "markdown",
      "metadata": {
        "id": "yCtxQ09rGmwt"
      },
      "source": [
        "# *DESAFIO 1 - PRIMEROS PASOS CON PYTHON*\n",
        "\n"
      ]
    },
    {
      "cell_type": "markdown",
      "metadata": {
        "id": "hDte1i_gFr6a"
      },
      "source": [
        "1. Escribir un programa que muestre por pantalla la cadena ¡Hola Mundo!."
      ]
    },
    {
      "cell_type": "code",
      "metadata": {
        "colab": {
          "base_uri": "https://localhost:8080/"
        },
        "id": "mO0rLGJqtr7K",
        "outputId": "b96eeef5-c39a-4722-ab4c-ad52e189e652"
      },
      "source": [
        "print(\"Hola Mundo\")"
      ],
      "execution_count": null,
      "outputs": [
        {
          "output_type": "stream",
          "name": "stdout",
          "text": [
            "Hola Mundo\n"
          ]
        }
      ]
    },
    {
      "cell_type": "markdown",
      "metadata": {
        "id": "dddkTMfTGBTH"
      },
      "source": [
        "2. Escribir un programa que almacene la cadena ¡Hola Mundo! en una variable y luego muestre por pantalla el contenido de la variable."
      ]
    },
    {
      "cell_type": "code",
      "metadata": {
        "colab": {
          "base_uri": "https://localhost:8080/"
        },
        "id": "L1uRHAAIudEz",
        "outputId": "d6ca9c0f-a464-42a4-8327-8371f21489e3"
      },
      "source": [
        "saludo = \"¡Hola mundo!\" \n",
        "print(saludo)"
      ],
      "execution_count": null,
      "outputs": [
        {
          "output_type": "stream",
          "name": "stdout",
          "text": [
            "¡Hola mundo!\n"
          ]
        }
      ]
    },
    {
      "cell_type": "markdown",
      "metadata": {
        "id": "0Q129LY5GEgJ"
      },
      "source": [
        "3. Escribir un programa que pregunte el nombre del usuario en la consola y después de que el usuario lo introduzca muestre por pantalla la cadena ¡Hola <nombre>!, donde <nombre> es el nombre que el usuario haya introducido."
      ]
    },
    {
      "cell_type": "code",
      "metadata": {
        "colab": {
          "base_uri": "https://localhost:8080/"
        },
        "id": "OqR_8AUEv9Ew",
        "outputId": "d3430032-8aa2-490d-fa14-e59bd4b029d0"
      },
      "source": [
        "usuario = input(\"Ingresa tu usuario\")\n",
        "print(\"Hola \"+usuario)"
      ],
      "execution_count": null,
      "outputs": [
        {
          "output_type": "stream",
          "name": "stdout",
          "text": [
            "Ingresa tu usuarioFabio\n",
            "Hola Fabio\n"
          ]
        }
      ]
    },
    {
      "cell_type": "markdown",
      "metadata": {
        "id": "GOJ0rosEGHBj"
      },
      "source": [
        "4. Escribir un programa que muestre por pantalla el resultado de la siguiente operación aritmética $\\left(\\frac{3+2}{2\\cdot 5}\\right)^2$."
      ]
    },
    {
      "cell_type": "code",
      "metadata": {
        "colab": {
          "base_uri": "https://localhost:8080/"
        },
        "id": "fdhTPd-ewJM4",
        "outputId": "7fc56ad2-96c1-4754-ecd3-d3ff4109f98c"
      },
      "source": [
        "operacion = ((3+2)/(2*5))**2\n",
        "print(operacion)"
      ],
      "execution_count": null,
      "outputs": [
        {
          "output_type": "stream",
          "name": "stdout",
          "text": [
            "0.25\n"
          ]
        }
      ]
    },
    {
      "cell_type": "markdown",
      "metadata": {
        "id": "bs75ezVBGJoQ"
      },
      "source": [
        "5. Escribe un programa que pregunte al usuario por el número de horas trabajadas y el coste por hora. Después debe mostrar por pantalla la paga que le corresponde. "
      ]
    },
    {
      "cell_type": "code",
      "metadata": {
        "colab": {
          "base_uri": "https://localhost:8080/"
        },
        "id": "diu2mnNxyP0T",
        "outputId": "2d092b22-0c5c-4745-fc37-2466d70f2d04"
      },
      "source": [
        "horas = int(input(\"¿Cuantas horas trabajaste?: \"))\n",
        "valor_hora = int(input(\"Ingresa el valor de la hora: \"))\n",
        "\n",
        "total = horas*valor_hora\n",
        "\n",
        "print(\"La paga por las horas dictadas será de: \" + str(total) + \" pesos\")"
      ],
      "execution_count": null,
      "outputs": [
        {
          "output_type": "stream",
          "name": "stdout",
          "text": [
            "¿Cuantas horas trabajaste?: 45\n",
            "Ingresa el valor de la hora: 25000\n",
            "La paga por las horas dictadas será de: 1125000 pesos\n"
          ]
        }
      ]
    },
    {
      "cell_type": "markdown",
      "metadata": {
        "id": "-ER8XvZ9GN_9"
      },
      "source": [
        "6. Escribir un programa que lea un entero porsitivo, $n$, introducido por el usuario y después muestre en pantalla la suma de todos los enteros desde 1 hasta $n$. La suma de los $n$ primeros enteros positivos puede ser calculada de la siguiente forma: \n",
        "\n",
        "$$ \\mbox{suma} = \\frac{n(n+1)}{2} $$"
      ]
    },
    {
      "cell_type": "code",
      "metadata": {
        "colab": {
          "base_uri": "https://localhost:8080/"
        },
        "id": "BmJdokz7zfdk",
        "outputId": "e35bc8d4-5481-4459-bac3-cf24d78ee321"
      },
      "source": [
        "n = int(input(\"Ingrese el valor de n: \"))\n",
        "suma = (n*(n+1))/2 \n",
        "\n",
        "print(\"El valor de la suma de todos los enteros hasta n es de: \" + str(suma))"
      ],
      "execution_count": null,
      "outputs": [
        {
          "output_type": "stream",
          "name": "stdout",
          "text": [
            "Ingrese el valor de n: 6\n",
            "El valor de la suma de todos los enteros hasta n es de: 21.0\n"
          ]
        }
      ]
    },
    {
      "cell_type": "markdown",
      "metadata": {
        "id": "2Uji_XkUGQq5"
      },
      "source": [
        "7. Escribir un programa que pida al usuario su peso (en kg) y estatura (en metros), calcule el índice de masa corporal y lo almacene en una variable, e imprima por pantalla la frase `Tu índice de masa corporal es <imc>` donde `<imc>` es el índice de masa corporal calculado redondeado con dos decimales.\n",
        "\n",
        "peso/(altura)**2"
      ]
    },
    {
      "cell_type": "code",
      "metadata": {
        "id": "gL67Srtk0Vis",
        "colab": {
          "base_uri": "https://localhost:8080/"
        },
        "outputId": "5c4384ec-8662-4bf4-a28e-4f3c3d608b62"
      },
      "source": [
        "altura = float(input(\"Ingrese su altura en metros: \"))\n",
        "imc = 24 \n",
        "\n",
        "peso = imc*(altura**2)\n",
        "\n",
        "print(\"El peso ideal para su estatura es de  = \"+ str(peso))"
      ],
      "execution_count": null,
      "outputs": [
        {
          "output_type": "stream",
          "name": "stdout",
          "text": [
            "Ingrese su altura en metros: 1.85\n",
            "Su peso ideal para su estatura es de  = 82.14000000000001\n"
          ]
        }
      ]
    },
    {
      "cell_type": "markdown",
      "metadata": {
        "id": "3tiVDV-1GTzx"
      },
      "source": [
        "8. Escribir un programa que pida al usuario dos números enteros y muestre por pantalla la `<n> entre <m> da un cociente <c> y un resto <r>` donde `<n>` y `<m>` son los números introducidos por el usuario, y `<c>` y `<r>` son el cociente y el resto de la división entera respectivamente."
      ]
    },
    {
      "cell_type": "code",
      "metadata": {
        "colab": {
          "base_uri": "https://localhost:8080/"
        },
        "id": "X-IwEZ0QB5W4",
        "outputId": "2f39dce1-2991-4887-811a-753c673c79d2"
      },
      "source": [
        "n =int(input(\"Ingrese el primero número: \"))\n",
        "m=int(input(\"Ingrese el segundo número: \"))\n",
        "c = n//m\n",
        "r=n%m\n",
        "print(\" El Resultado del Cociente es: \" +str(c))\n",
        "print(\" El Resultado del Resto  es: \" +str(r))"
      ],
      "execution_count": null,
      "outputs": [
        {
          "output_type": "stream",
          "name": "stdout",
          "text": [
            "Ingrese el primero número: 5\n",
            "Ingrese el segundo número: 3\n",
            " El Resultado del Cociente es: 1\n",
            " El Resultado del Resto  es: 2\n"
          ]
        }
      ]
    },
    {
      "cell_type": "markdown",
      "metadata": {
        "id": "an2jFqzHGWh0"
      },
      "source": [
        "9. Escribir un programa que pregunte al usuario una cantidad a invertir, el interés porcentual anual y el número de años, y muestre por pantalla el capital obtenido en la inversión redondeado con dos decimales."
      ]
    },
    {
      "cell_type": "code",
      "metadata": {
        "colab": {
          "base_uri": "https://localhost:8080/"
        },
        "id": "jZTsBQ0RBY-B",
        "outputId": "9f3fbd41-ec79-4d8f-831c-8fee83f10057"
      },
      "source": [
        "cantidad = int(input(\"Ingresa la cantidad a invertir: \"))\n",
        "interes = int(input(\"Ingresa el interés porcentual anual: \"))\n",
        "tiempo = int(input(\"Ingresa la cantidad de años de la inversión: \"))\n",
        "\n",
        "total = ((cantidad) * (interes/100))*tiempo + cantidad \n",
        "\n",
        "print(\"El valor final en los \"+ str(tiempo) + \" años, es de: \" + str(total))"
      ],
      "execution_count": null,
      "outputs": [
        {
          "output_type": "stream",
          "name": "stdout",
          "text": [
            "Ingresa la cantidad a invertir: 250000\n",
            "Ingresa el interés porcentual anual: 30\n",
            "Ingresa la cantidad de años de la inversión: 3\n",
            "El valor futuro en los 3 años, es de: 475000.0\n"
          ]
        }
      ]
    },
    {
      "cell_type": "markdown",
      "metadata": {
        "id": "zhbKtVlgGdVB"
      },
      "source": [
        "10. Una juguetería tiene mucho éxito en dos de sus productos: payasos y muñecas. Suele hacer venta por correo y la empresa de logística les cobra por peso de cada paquete así que deben calcular el peso de los payasos y muñecas que saldrán en cada paquete a demanda. Cada payaso pesa 112 g y cada muñeca 75 g. Escribir un programa que lea el número de payasos y muñecas vendidos en el último pedido y calcule el peso total del paquete que será enviado.\n",
        "\n",
        "1. Escribir un programa que pregunte el nombre del usuario en la consola y un número entero e imprima por pantalla en líneas distintas el nombre del usuario tantas veces como el número introducido.\n",
        "\n",
        "3. Escribir un programa que pregunte el nombre del usuario en la consola y después de que el usuario lo introduzca muestre por pantalla `<NOMBRE> tiene <n> letras`, donde `<NOMBRE>` es el nombre de usuario en mayúsculas y `<n>` es el número de letras que tienen el nombre."
      ]
    },
    {
      "cell_type": "code",
      "metadata": {
        "id": "kadzCuY_D04h"
      },
      "source": [
        "#ingresar cantidad de payasos\n",
        "payasos = int(input(\"Ingrese cantidad de Payasos: \"))\n",
        "munecas = int(input(\"Ingrese cantidad de muñecas: \"))\n",
        "\n",
        "pesoPay = payasos*112\n",
        "pesomunecas = munecas*75\n",
        "print(\"El peso de su pedido es de: \" + str(pesomunecas+pesoPay))"
      ],
      "execution_count": null,
      "outputs": []
    },
    {
      "cell_type": "code",
      "metadata": {
        "colab": {
          "base_uri": "https://localhost:8080/"
        },
        "id": "JT_w0cn7_3mz",
        "outputId": "c19e0f2d-8178-48c0-9ed9-55185c9270f6"
      },
      "source": [
        "usuario = input(\"Usuario: \") + \"\\n\"\n",
        "entero = int(input(\"Entero: \"))\n",
        "print(usuario * entero)\n"
      ],
      "execution_count": null,
      "outputs": [
        {
          "output_type": "stream",
          "name": "stdout",
          "text": [
            "Usuario: Fabio\n",
            "Entero: 5\n",
            "Fabio\n",
            "Fabio\n",
            "Fabio\n",
            "Fabio\n",
            "Fabio\n",
            "\n"
          ]
        }
      ]
    },
    {
      "cell_type": "markdown",
      "metadata": {
        "id": "XgNNep-YDmA9"
      },
      "source": [
        "13. Escribir un programa que pregunte una palabra y devuelva el número de consonantes que tiene. "
      ]
    },
    {
      "cell_type": "code",
      "metadata": {
        "colab": {
          "base_uri": "https://localhost:8080/"
        },
        "id": "d-7naHV7DBI3",
        "outputId": "25c87695-4086-49d3-aec3-c9fb637075cd"
      },
      "source": [
        "nombre = str(input(\"Ingrese su nombre: \")).upper()\n",
        "\n",
        "a = nombre.count(\"A\")\n",
        "e = nombre.count(\"E\")\n",
        "i = nombre.count(\"I\")\n",
        "o = nombre.count(\"O\")\n",
        "u = nombre.count(\"U\")\n",
        "\n",
        "voc = (a + e + i + o + u)\n",
        "res = len(nombre) - voc\n",
        "\n",
        "print(str(nombre.upper()) + \" tiene \" + str(res) + \" consonantes\" )"
      ],
      "execution_count": null,
      "outputs": [
        {
          "output_type": "stream",
          "name": "stdout",
          "text": [
            "Ingrese su nombre: murcielago\n",
            "MURCIELAGO tiene 5 consonantes\n"
          ]
        }
      ]
    },
    {
      "cell_type": "markdown",
      "metadata": {
        "id": "7IBh9Vz0H0RL"
      },
      "source": [
        "## TAREAS"
      ]
    },
    {
      "cell_type": "markdown",
      "metadata": {
        "id": "67sDZ97UGg12"
      },
      "source": [
        "11. Imagina que acabas de abrir una nueva cuenta de ahorros que te ofrece el 4% de interés al año. Estos ahorros debido a intereses, que no se cobran hasta finales de año, se te añaden al balance final de tu cuenta de ahorros. Escribir un programa que comience leyendo la cantidad de dinero depositada en la cuenta de ahorros, introducida por el usuario. Después el programa debe calcular y mostrar por pantalla la cantidad de ahorros tras el primer, segundo y tercer años. Redondear cada cantidad a dos decimales.  "
      ]
    },
    {
      "cell_type": "code",
      "metadata": {
        "id": "pKLOlioPrnh7"
      },
      "source": [
        ""
      ],
      "execution_count": null,
      "outputs": []
    },
    {
      "cell_type": "markdown",
      "metadata": {
        "id": "1HAvUhWPGji1"
      },
      "source": [
        "12. Una panadería vende barras de pan a 3.49€ cada una. El pan que no es el día tiene un descuento del 60%. Escribe un programa que comience leyendo el número de barras vendidas que no son del día. Después tu programa debe mostrar el precio habitual de una barra de pan, el descuento que se le hace por no ser fresca y el coste final total. "
      ]
    },
    {
      "cell_type": "markdown",
      "metadata": {
        "id": "abHUgYX4G9HN"
      },
      "source": [
        "# DESAFIO 2 - CADENAS CON PYTHON"
      ]
    },
    {
      "cell_type": "markdown",
      "metadata": {
        "id": "eh8fjNqTHX1U"
      },
      "source": [
        "1. Escribir un programa que pregunte el nombre del usuario en la consola y un número entero e imprima por pantalla en líneas distintas el nombre del usuario tantas veces como el número introducido."
      ]
    },
    {
      "cell_type": "markdown",
      "metadata": {
        "id": "uvx1vobDHrBc"
      },
      "source": [
        "2. Escribir un programa que pregunte el nombre completo del usuario en la consola y después muestre por pantalla el nombre completo del usuario tres veces, una con todas las letras minúsculas, otra con todas las letras mayúsculas y otra solo con la primera letra del nombre y de los apellidos en mayúscula. El usuario puede introducir su nombre combinando mayúsculas y minúsculas como quiera."
      ]
    },
    {
      "cell_type": "code",
      "metadata": {
        "colab": {
          "base_uri": "https://localhost:8080/"
        },
        "id": "ZKDN2gYK98bV",
        "outputId": "016fb838-f8c3-48c0-ea09-0005a89a53b7"
      },
      "source": [
        "nombre = \"fabio\"\n",
        "print(\"El nombre es \" + nombre.upper() + \" , \" + nombre.lower() + \" , \" + nombre.capitalize())"
      ],
      "execution_count": null,
      "outputs": [
        {
          "output_type": "stream",
          "name": "stdout",
          "text": [
            "El nombre es FABIO , fabio , Fabio\n"
          ]
        }
      ]
    },
    {
      "cell_type": "markdown",
      "metadata": {
        "id": "uJY9GRRMHvNy"
      },
      "source": [
        "3. Escribir un programa que pregunte el nombre del usuario en la consola y después de que el usuario lo introduzca muestre por pantalla `<NOMBRE> tiene <n> letras`, donde `<NOMBRE>` es el nombre de usuario en mayúsculas y `<n>` es el número de letras que tienen el nombre."
      ]
    },
    {
      "cell_type": "markdown",
      "metadata": {
        "id": "vrMI7n8iHx2b"
      },
      "source": [
        "4. Los teléfonos de una empresa tienen el siguiente formato prefijo-número-extension donde el prefijo es el código del país +34, y la extensión tiene dos dígitos (por ejemplo +34-913724710-56). Escribir un programa que pregunte por un número de teléfono con este formato en la consola y muestre por pantalla el número de teléfono sin el prefijo y la extensión."
      ]
    },
    {
      "cell_type": "markdown",
      "metadata": {
        "id": "jArKcCgoIP_w"
      },
      "source": [
        "5. Escribir un programa que pida al usuario que introduzca una frase en la consola y muestre por pantalla la frase invertida."
      ]
    },
    {
      "cell_type": "markdown",
      "metadata": {
        "id": "VP4qSKqdIWps"
      },
      "source": [
        "## TAREAS "
      ]
    },
    {
      "cell_type": "markdown",
      "metadata": {
        "id": "Ec6w3Yi_IhLs"
      },
      "source": [
        "# DESAFIO 3 - CONDICIONALES"
      ]
    },
    {
      "cell_type": "markdown",
      "metadata": {
        "id": "fJfv_ZcUJx95"
      },
      "source": [
        "1. Escribir un programa que pregunte al usuario su edad y muestre por pantalla si es mayor de edad o no."
      ]
    },
    {
      "cell_type": "code",
      "metadata": {
        "colab": {
          "base_uri": "https://localhost:8080/"
        },
        "id": "TCOT3yS_zNO7",
        "outputId": "258d43d5-ba0f-429a-ba42-c9b364e734fb"
      },
      "source": [
        "edad = int(input(\"Inserte su edad: \"))\n",
        "if edad > 18:\n",
        "   print(\"Eres mayor de edad\")\n",
        "elif edad == 18:\n",
        "    print(\"tienes 18 años\")\n",
        "else:\n",
        "    print(\"Eres menor de edad\")\n"
      ],
      "execution_count": null,
      "outputs": [
        {
          "output_type": "stream",
          "name": "stdout",
          "text": [
            "Inserte su edad: 7\n",
            "Eres menor de edad\n"
          ]
        }
      ]
    },
    {
      "cell_type": "markdown",
      "metadata": {
        "id": "1YQWer_PJzDw"
      },
      "source": [
        "2. Escribir un programa que almacene la cadena de caracteres `contraseña` en una variable, pregunte al usuario por la contraseña e imprima por pantalla si la contraseña introducida por el usuario coincide con la guardada en la variable sin tener en cuenta mayúsculas y minúsculas."
      ]
    },
    {
      "cell_type": "code",
      "metadata": {
        "colab": {
          "base_uri": "https://localhost:8080/"
        },
        "id": "00AoDrdazhtD",
        "outputId": "1a0e4b55-e9b6-4548-a23c-845cffc74654"
      },
      "source": [
        "contrasena = \"dimitri2021\"\n",
        "\n",
        "passw = input(\"Ingresa la contraseña \")\n",
        "\n",
        "if passw == contrasena:\n",
        "  print(\"Insertaste la contraseña correcta\")\n",
        "else:\n",
        "  print(\"Insertaste la contraseña incorrecta\")"
      ],
      "execution_count": null,
      "outputs": [
        {
          "output_type": "stream",
          "name": "stdout",
          "text": [
            "Ingresa la contraseña dimitri2020\n",
            "Insertaste la contraseña incorrecta\n"
          ]
        }
      ]
    },
    {
      "cell_type": "markdown",
      "metadata": {
        "id": "hHep1Db7J2LC"
      },
      "source": [
        "3. Escribir un programa que pida al usuario dos números y devuelva su división. *Si el usuario no introduce números* debe devolver un aviso de error y si el divisor es cero también. ** RETOMAR CUANDO VEAMOS TRY**"
      ]
    },
    {
      "cell_type": "code",
      "metadata": {
        "colab": {
          "base_uri": "https://localhost:8080/"
        },
        "id": "SQsfFzON0Y28",
        "outputId": "bfee3476-bcd3-4013-f829-a219a840f53a"
      },
      "source": [
        "a = float(input(\"ingresa el primer numero\"))\n",
        "b = float(input(\"ingreso el segundo numero\"))\n",
        "\n",
        "if b == 0: \n",
        "  print(\"El divisor es cero\")\n",
        "else:\n",
        "  print(\"El resultado es \" + str(a/b)) \n",
        "\n"
      ],
      "execution_count": null,
      "outputs": [
        {
          "output_type": "stream",
          "name": "stdout",
          "text": [
            "ingresa el primer numero6\n",
            "ingreso el segundo numero7\n",
            "El resultado es +0.8571428571428571\n"
          ]
        }
      ]
    },
    {
      "cell_type": "code",
      "metadata": {
        "id": "bMyUVLZm23v7"
      },
      "source": [
        "a = int(input(\"Ingrese\"))\n",
        "\n",
        "if type(a) == type(int):\n",
        "  print(\"Es entero\")\n",
        "else:\n",
        "  print(\"No es entero\")"
      ],
      "execution_count": null,
      "outputs": []
    },
    {
      "cell_type": "markdown",
      "metadata": {
        "id": "8B3hy6oVJ4uo"
      },
      "source": [
        "4. Escribir un programa que pida al usuario un número entero y muestre por pantalla si es par o impar."
      ]
    },
    {
      "cell_type": "code",
      "metadata": {
        "colab": {
          "base_uri": "https://localhost:8080/"
        },
        "id": "Ywpo9bAc3OcG",
        "outputId": "06f92d22-2e01-43aa-e4ff-b03a407ac85b"
      },
      "source": [
        "a = int(input(\"Ingrese el numero a evaluar: \"))\n",
        "\n",
        "if a%2 == 0:\n",
        "  print(\"Es par\")\n",
        "else:\n",
        "  print(\"Es numero impar\")"
      ],
      "execution_count": null,
      "outputs": [
        {
          "output_type": "stream",
          "name": "stdout",
          "text": [
            "Ingres el numero a evaluar: 15\n",
            "Es numero impar\n"
          ]
        }
      ]
    },
    {
      "cell_type": "markdown",
      "metadata": {
        "id": "AbOYQ5JU3nlg"
      },
      "source": [
        "4.1 Escribir un programa que pida al usuario un número y muestre por pantalla si es primo"
      ]
    },
    {
      "cell_type": "code",
      "metadata": {
        "id": "hRcWSl4X3u3S"
      },
      "source": [
        "a = int(input(\"Ingrese el numero a evaluar: \"))\n",
        "\n",
        "if a%1 == 0 \n",
        "  print(\"Es par\")\n",
        "else:\n",
        "  print(\"Es numero impar\")"
      ],
      "execution_count": null,
      "outputs": []
    },
    {
      "cell_type": "markdown",
      "metadata": {
        "id": "7AgSRPEmJ7N6"
      },
      "source": [
        "5. Para tributar un determinado impuesto se debe ser mayor de 16 años y tener unos ingresos superiores a 1000 € mensuales.\n",
        "Escribir un programa que pregunte al usuario su edad y sus ingresos mensuales y muestre por pantalla si el usuario tiene que tributar o no."
      ]
    },
    {
      "cell_type": "markdown",
      "metadata": {
        "id": "Bgie-AAUJ-pd"
      },
      "source": [
        "### TAREAS "
      ]
    },
    {
      "cell_type": "markdown",
      "metadata": {
        "id": "LSNPddGmKAvm"
      },
      "source": [
        "6. Los alumnos de un curso se han dividido en dos grupos A y B de acuerdo al sexo y el nombre. El grupo A esta formado por las mujeres con un nombre anterior a la M y los hombres con un nombre posterior a la N y el grupo B por el resto. Escribir un programa que pregunte al usuario su nombre y sexo, y muestre por pantalla el grupo que le corresponde."
      ]
    },
    {
      "cell_type": "code",
      "metadata": {
        "id": "nV7XJqrWYGnr"
      },
      "source": [
        ""
      ],
      "execution_count": null,
      "outputs": []
    },
    {
      "cell_type": "markdown",
      "metadata": {
        "id": "Sdre5nUxKFHy"
      },
      "source": [
        "7. Los tramos impositivos para la declaración de la renta en un determinado país son los siguientes:\n",
        "![1.PNG](data:image/png;base64,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)\n",
        "\n",
        "\n",
        "Escribir un programa que pregunte al usuario su renta anual y muestre por pantalla el tipo impositivo que le corresponde."
      ]
    },
    {
      "cell_type": "markdown",
      "metadata": {
        "id": "myrrYYyvLE1t"
      },
      "source": [
        "8. Escribir un programa para una empresa que tiene salas de juegos para todas las edades y quiere calcular de forma automática el precio que debe cobrar a sus clientes por entrar.\n",
        "El programa debe preguntar al usuario la edad del cliente y mostrar el precio de la entrada.\n",
        "Si el cliente es menor de 4 años puede entrar gratis, si tiene entre 4 y 18 años debe pagar 5€ y si es mayor de 18 años, 10€.\n"
      ]
    },
    {
      "cell_type": "markdown",
      "metadata": {
        "id": "aZLfhQwqLF5E"
      },
      "source": [
        "9. La pizzería Bella Napoli ofrece pizzas vegetarianas y no vegetarianas a sus clientes. Los ingredientes para cada tipo de pizza aparecen a continuación. Ingredientes vegetarianos: Pimiento y tofu.\n",
        "Ingredientes no vegetarianos: Peperoni, Jamón y Salmón.\n",
        "Escribir un programa que pregunte al usuario si quiere una pizza vegetariana o no, y en función de su respuesta le muestre un menú con los ingredientes disponibles para que elija. Solo se puede eligir un ingrediente además de la mozzarella y el tomate que están en todas la pizzas. Al final se debe mostrar por pantalla si la pizza elegida es vegetariana o no y todos los ingredientes que lleva."
      ]
    },
    {
      "cell_type": "markdown",
      "metadata": {
        "id": "KghIVpMoIrzO"
      },
      "source": [
        "# DESAFIO 4 - CICLOS "
      ]
    },
    {
      "cell_type": "markdown",
      "metadata": {
        "id": "UoJ0-CUsIu7J"
      },
      "source": [
        "1. Escribir un programa que pida al usuario una palabra y la muestre 10 veces por pantalla."
      ]
    },
    {
      "cell_type": "code",
      "metadata": {
        "colab": {
          "base_uri": "https://localhost:8080/"
        },
        "id": "8i6-fN4zAQgS",
        "outputId": "e2a4eeea-89b3-4e78-c39a-9e4917165417"
      },
      "source": [
        "nombre = input(\"Ingresa tu nombre\")\n",
        "i = 1\n",
        "while i <= 10:\n",
        "  print(str(i) + \" \" + nombre, end = '\\n')\n",
        "  i+=1"
      ],
      "execution_count": null,
      "outputs": [
        {
          "output_type": "stream",
          "name": "stdout",
          "text": [
            "Ingresa tu nombreFabio\n",
            "1 Fabio\n",
            "2 Fabio\n",
            "3 Fabio\n",
            "4 Fabio\n",
            "5 Fabio\n",
            "6 Fabio\n",
            "7 Fabio\n",
            "8 Fabio\n",
            "9 Fabio\n",
            "10 Fabio\n"
          ]
        }
      ]
    },
    {
      "cell_type": "markdown",
      "metadata": {
        "id": "jstdPrbqLdCi"
      },
      "source": [
        "2. Escribir un programa que pregunte al usuario su edad y muestre por pantalla todos los años que ha cumplido (desde 1 hasta su edad)."
      ]
    },
    {
      "cell_type": "code",
      "metadata": {
        "colab": {
          "base_uri": "https://localhost:8080/"
        },
        "id": "wRoWQ3qeA4ni",
        "outputId": "596073fe-8060-4c4a-f569-8f5181d7ae23"
      },
      "source": [
        "edad = int(input(\"Ingresa tu edad \"))\n",
        "\n",
        "i=1\n",
        "while i<=edad:\n",
        "  print(str(i) + \" Años\")\n",
        "  i+=1"
      ],
      "execution_count": null,
      "outputs": [
        {
          "output_type": "stream",
          "name": "stdout",
          "text": [
            "Ingresa tu edad 10\n",
            "1 Años\n",
            "2 Años\n",
            "3 Años\n",
            "4 Años\n",
            "5 Años\n",
            "6 Años\n",
            "7 Años\n",
            "8 Años\n",
            "9 Años\n",
            "10 Años\n"
          ]
        }
      ]
    },
    {
      "cell_type": "markdown",
      "metadata": {
        "id": "94OdHtJoLfea"
      },
      "source": [
        "3. Escribir un programa que pida al usuario un número entero positivo y muestre por pantalla todos los números impares desde 1 hasta ese número separados por comas."
      ]
    },
    {
      "cell_type": "code",
      "metadata": {
        "colab": {
          "base_uri": "https://localhost:8080/"
        },
        "id": "Ut7nHJgeE6dN",
        "outputId": "de949cb0-e720-4d9c-c871-8758e50c69f1"
      },
      "source": [
        "val = int(input(\"Ingrese un numero positivo mayor a cero: \"))\n",
        "i = 1\n",
        "while i <= val:\n",
        "  if i < val:\n",
        "    print (i, end = ', ')\n",
        "  else:\n",
        "    print (i, end = ' ')\n",
        "  i+=2"
      ],
      "execution_count": null,
      "outputs": [
        {
          "output_type": "stream",
          "name": "stdout",
          "text": [
            "Ingrese un numero positivo mayor a cero: 13\n",
            "1, 3, 5, 7, 9, 11, 13 "
          ]
        }
      ]
    },
    {
      "cell_type": "code",
      "metadata": {
        "colab": {
          "base_uri": "https://localhost:8080/"
        },
        "id": "CtspF6_VFeTa",
        "outputId": "c6f37a3d-1a95-4bbd-85ce-4ecb5dff4556"
      },
      "source": [
        "n = int(input(\"Ingrese un numero positivo mayor a cero\"))\n",
        "\n",
        "for i in range(1, n+1, 2 ):\n",
        "  if i < n:\n",
        "    print (i, end = ', ')\n",
        "  else:\n",
        "    print (i, end = ' ')"
      ],
      "execution_count": null,
      "outputs": [
        {
          "output_type": "stream",
          "name": "stdout",
          "text": [
            "Ingrese un numero positivo mayor a cero13\n",
            "1, 3, 5, 7, 9, 11, 13 "
          ]
        }
      ]
    },
    {
      "cell_type": "markdown",
      "metadata": {
        "id": "h4hOQM5gLhdw"
      },
      "source": [
        "4. Escribir un programa que pida al usuario un número entero positivo y muestre por pantalla la cuenta atrás desde ese número hasta cero separados por comas."
      ]
    },
    {
      "cell_type": "code",
      "metadata": {
        "colab": {
          "base_uri": "https://localhost:8080/"
        },
        "id": "EZyBpZcVGdRU",
        "outputId": "0d58e091-7885-41c4-c58a-0659f707cb7f"
      },
      "source": [
        "n = int(input(\"Ingrese un numero positivo mayor a cero\"))\n",
        "\n",
        "for i in range(n, -1, -1):\n",
        "  if i > 0:\n",
        "    print (i, end = ', ')\n",
        "  else:\n",
        "    print (i, end = ' ')"
      ],
      "execution_count": null,
      "outputs": [
        {
          "output_type": "stream",
          "name": "stdout",
          "text": [
            "Ingrese un numero positivo mayor a cero13\n",
            "13, 12, 11, 10, 9, 8, 7, 6, 5, 4, 3, 2, 1, 0 "
          ]
        }
      ]
    },
    {
      "cell_type": "markdown",
      "metadata": {
        "id": "lH91eAXcNNW_"
      },
      "source": [
        "5. Escribir un programa que pregunte al usuario una cantidad a invertir, el interés anual y el número de años, y muestre por pantalla el capital obtenido en la inversión cada año que dura la inversión."
      ]
    },
    {
      "cell_type": "code",
      "metadata": {
        "id": "lxb_YQazJNAN"
      },
      "source": [
        "cantidad = int(input(\"Ingrese la cantidad de dinero depositada en la cuenta de ahorros: \"))\n",
        "interes = int(input(\"Ingrese el interes: \"))\n",
        "tiempo = int(input(\"Ingrese la cantidad años que se causaran los intereses: \"))\n",
        "\n",
        "cont = 1\n",
        "while cont <= tiempo:\n",
        "    total = ((cantidad) * (interes / 100))\n",
        "    print('Para el ' + str(cont) + ' año se genera un total de intereses de ' + str(total) + ' pesos sobre el valor ' + str(cantidad) + ' pesos')\n",
        "    cantidad = cantidad + total\n",
        "    cont += 1\n",
        "print('El valor total generado en los ' + str(tiempo) + ' año(s) es de: ' + str(cantidad) + ' pesos entre los intereses y el primer deposito')"
      ],
      "execution_count": null,
      "outputs": []
    },
    {
      "cell_type": "markdown",
      "metadata": {
        "id": "LvDTVp0wIli0"
      },
      "source": [
        "### TAREAS"
      ]
    },
    {
      "cell_type": "markdown",
      "metadata": {
        "id": "tlGzSLcwNpUJ"
      },
      "source": [
        "6. Escribir un programa en el que se pregunte al usuario por una frase y una letra, y muestre por pantalla el número de veces que aparece la letra en la frase. \"Recorriendola\""
      ]
    },
    {
      "cell_type": "code",
      "metadata": {
        "id": "ico-EWuXO-0X"
      },
      "source": [
        "frase= input(\"Escriba una frase: \")\n",
        "letra = input(\"Escriba una letra: \")\n",
        "j=0\n",
        "for i in frase:\n",
        "  if i==letra:\n",
        "    j+=1 \n",
        "print (\"El número de veces de la \" + str(letra) + \" es \" + str(j))  "
      ],
      "execution_count": null,
      "outputs": []
    },
    {
      "cell_type": "markdown",
      "metadata": {
        "id": "n89L2Xj5NqsJ"
      },
      "source": [
        "7. Escribir un programa que muestre el eco de todo lo que el usuario introduzca hasta que el usuario escriba “salir” que terminará."
      ]
    },
    {
      "cell_type": "code",
      "metadata": {
        "id": "UP_EA_HmQ0K7"
      },
      "source": [
        "frase = \" \"\n",
        "\n",
        "while frase != \"salir\":\n",
        "  frase = input(\"Escribeme\")\n",
        "  print(frase)"
      ],
      "execution_count": null,
      "outputs": []
    },
    {
      "cell_type": "markdown",
      "metadata": {
        "id": "rxxkCxpXHpd5"
      },
      "source": [
        "# DESAFIO 5 - LISTAS Y TUPLAS"
      ]
    },
    {
      "cell_type": "markdown",
      "metadata": {
        "id": "2e30_aa9II4r"
      },
      "source": [
        "1. Escribir un programa que almacene las asignaturas de un curso (por ejemplo Matemáticas, Física, Química, Historia y Lengua) en una lista y la muestre por pantalla."
      ]
    },
    {
      "cell_type": "code",
      "metadata": {
        "colab": {
          "base_uri": "https://localhost:8080/"
        },
        "id": "-6o8dAbifOz7",
        "outputId": "b0372cae-fa62-420b-de11-87b891c07405"
      },
      "source": [
        "asignaturas = [\"Mates\", \"Fisica\", \"Quimica\", \"Historia\", \"Lengua\"]\n",
        "\n",
        "for i in asignaturas: \n",
        "  print(i, end = ', ')\n"
      ],
      "execution_count": 2,
      "outputs": [
        {
          "output_type": "stream",
          "name": "stdout",
          "text": [
            "Mates, Fisica, Quimica, Historia, Lengua, "
          ]
        }
      ]
    },
    {
      "cell_type": "markdown",
      "metadata": {
        "id": "NgIfo-olfuV8"
      },
      "source": [
        "Escribir un programa que solicite al cliente el número de materias a registrar, solicite el nombre de cada una, las añada a una lista y las muestra por pantalla. AÑADIDO"
      ]
    },
    {
      "cell_type": "code",
      "metadata": {
        "colab": {
          "base_uri": "https://localhost:8080/"
        },
        "id": "PgluMgPafiae",
        "outputId": "bd55442f-e7ba-4f20-86e4-7b924bf84553"
      },
      "source": [
        "materia = int(input(\"Ingrese el numero de materias a añadir: \"))\n",
        "asignaturas = [] \n",
        "\n",
        "# llenado de la lista \n",
        "for i in range(materia):\n",
        "  asig = input(\"Ingrese la asignatura numero \")\n",
        "  asignaturas.append(asig) # añadiendo al final de la lista asignaturas \n",
        "\n",
        "print(\"Las asignaturas son :\" )\n",
        "for i in asignaturas: \n",
        "  print(i)\n"
      ],
      "execution_count": 10,
      "outputs": [
        {
          "output_type": "stream",
          "name": "stdout",
          "text": [
            "Ingrese el numero de materias a añadir: 4\n",
            "Ingrese la asignatura numero Calculo 1\n",
            "Ingrese la asignatura numero Calculo 2\n",
            "Ingrese la asignatura numero Calculo 3\n",
            "Ingrese la asignatura numero Calculo 4\n",
            "Las asignaturas son :\n",
            "Calculo 1\n",
            "Calculo 2\n",
            "Calculo 3\n",
            "Calculo 4\n"
          ]
        }
      ]
    },
    {
      "cell_type": "markdown",
      "metadata": {
        "id": "Xw85w2AUIN8X"
      },
      "source": [
        "2. Escribir un programa que almacene las asignaturas de un curso (por ejemplo Matemáticas, Física, Química, Historia y Lengua) en una lista y la muestre por pantalla el mensaje Yo estudio <asignatura>, donde <asignatura> es cada una de las asignaturas de la lista."
      ]
    },
    {
      "cell_type": "markdown",
      "metadata": {
        "id": "31EHcJvdIQ8_"
      },
      "source": [
        "3. Escribir un programa que almacene las asignaturas de un curso (por ejemplo Matemáticas, Física, Química, Historia y Lengua) en una lista, pregunte al usuario la nota que ha sacado en cada asignatura, y después las muestre por pantalla con el mensaje En <asignatura> has sacado <nota> donde <asignatura> es cada una des las asignaturas de la lista y <nota> cada una de las correspondientes notas introducidas por el usuario."
      ]
    },
    {
      "cell_type": "code",
      "metadata": {
        "colab": {
          "base_uri": "https://localhost:8080/"
        },
        "id": "hdnZa1CYjen1",
        "outputId": "962ca3bf-c4f2-4707-ef28-b105212355db"
      },
      "source": [
        "asignaturas = [\"Mates\", \"Fisica\", \"Quimica\", \"Historia\", \"Lengua\"]\n",
        "notas = []\n",
        "\n",
        "for i in range(len(asignaturas)): \n",
        "  nota = float(input(\"Ingrese la nota correspondiente: \"))\n",
        "  notas.append(nota)\n",
        "\n",
        "print(\"\\nInforme de notas\\n\")\n",
        "\n",
        "for i in range(len(asignaturas)): \n",
        "  print(\"En \" + asignaturas[i] + \" Has sacado \" + str(notas[i]))\n",
        "\n",
        "suma = sum(notas)\n",
        "promedio = suma/len(notas)\n",
        "\n",
        "print(\"El promedio del periodo será de \" + str(promedio))\n",
        "\n",
        "  "
      ],
      "execution_count": 16,
      "outputs": [
        {
          "output_type": "stream",
          "name": "stdout",
          "text": [
            "Ingrese la nota correspondiente: 3.4\n",
            "Ingrese la nota correspondiente: 4.6\n",
            "Ingrese la nota correspondiente: 3.6\n",
            "Ingrese la nota correspondiente: 3.7\n",
            "Ingrese la nota correspondiente: 4\n",
            "\n",
            "Informe de notas\n",
            "\n",
            "En Mates Has sacado 3.4\n",
            "En Fisica Has sacado 4.6\n",
            "En Quimica Has sacado 3.6\n",
            "En Historia Has sacado 3.7\n",
            "En Lengua Has sacado 4.0\n",
            "El promedio del periodo será de 3.8600000000000003\n"
          ]
        }
      ]
    },
    {
      "cell_type": "markdown",
      "metadata": {
        "id": "Ybum7TiqITkU"
      },
      "source": [
        "4. Escribir un programa que almacene el abecedario en una lista, elimine de la lista las letras que ocupen posiciones múltiplos de 3, y muestre por pantalla la lista resultante."
      ]
    },
    {
      "cell_type": "code",
      "metadata": {
        "colab": {
          "base_uri": "https://localhost:8080/"
        },
        "id": "Wn-35a3glxld",
        "outputId": "e5f332d0-e4f8-40bd-de9e-12beffbf21f5"
      },
      "source": [
        "alfabeto1 = \"abcdefghijklmnopqrstuvwxyz\"\n",
        "alfabeto = list(alfabeto1)\n",
        "\n",
        "indexes = []\n",
        "nuevoalfabeto = []\n",
        "for i in range(len(alfabeto),1,-1):\n",
        "  if i%3 == 0:\n",
        "    alfabeto.pop(i-1)\n",
        "    \n",
        "print(alfabeto)\n",
        "\n",
        "\n",
        "\n",
        "\n",
        "\n"
      ],
      "execution_count": 43,
      "outputs": [
        {
          "output_type": "stream",
          "name": "stdout",
          "text": [
            "['a', 'b', 'd', 'e', 'g', 'h', 'j', 'k', 'm', 'n', 'p', 'q', 's', 't', 'v', 'w', 'y', 'z']\n"
          ]
        }
      ]
    },
    {
      "cell_type": "markdown",
      "metadata": {
        "id": "ztLxS5gjIkTz"
      },
      "source": [
        "5. Escribir un programa que almacene en una lista los siguientes precios, 50, 75, 46, 22, 80, 65, 8, y muestre por pantalla el menor y el mayor de los precios."
      ]
    },
    {
      "cell_type": "code",
      "metadata": {
        "colab": {
          "base_uri": "https://localhost:8080/"
        },
        "id": "G0RDh9d1lVZM",
        "outputId": "15d83958-bf33-4943-d372-12d3655e0cc0"
      },
      "source": [
        "precios = [50, 75, 46, 22, 80, 65, 8]\n",
        "\n",
        "print(\"El precio menor será \" + str(min(precios)) + \"  y el precio mayor será \" + str(max(precios)))"
      ],
      "execution_count": 19,
      "outputs": [
        {
          "output_type": "stream",
          "name": "stdout",
          "text": [
            "El precio menor será 8  y el precio mayor será 80\n"
          ]
        }
      ]
    },
    {
      "cell_type": "markdown",
      "metadata": {
        "id": "8RzfwMyiIqmq"
      },
      "source": [
        "## TAREAS"
      ]
    },
    {
      "cell_type": "markdown",
      "metadata": {
        "id": "AVI0uZBPIsrd"
      },
      "source": [
        "6. Escribir un programa que almacene los vectores (1,2,3) y (-1,0,2) en dos listas y muestre por pantalla su producto escalar."
      ]
    },
    {
      "cell_type": "code",
      "metadata": {
        "colab": {
          "base_uri": "https://localhost:8080/"
        },
        "id": "5N64bbpPsmmV",
        "outputId": "4d2dc95c-44b4-4197-bff1-59a22c766eaa"
      },
      "source": [
        "a = (1,2,3)\n",
        "b = (-1,0,2)\n",
        "productos = 0\n",
        "\n",
        "if len(a) == len(b): \n",
        "  for i in range(len(a)):\n",
        "    productos += a[i]*b[i]\n",
        "    #productos.append(a[i]*b[i])\n",
        "  #suma = sum(productos)\n",
        "print(\"El producto escalar de los vectores es \" + str(productos))\n"
      ],
      "execution_count": 48,
      "outputs": [
        {
          "output_type": "stream",
          "name": "stdout",
          "text": [
            "El producto escalar de los vectores es 5\n"
          ]
        }
      ]
    },
    {
      "cell_type": "markdown",
      "metadata": {
        "id": "FybArsY8IzFE"
      },
      "source": [
        "7. Escribir un programa que almacene las matrices\n",
        "A=(1 2 3, 4 5 6) \n",
        "B=(-1 0, 0 1 ,1 1)\n",
        "\n",
        "En una lista y muestre por pantalla su producto.\n",
        "Nota: Para representar matrices mediante listas usar listas anidadas, representando cada vector fila en una lista."
      ]
    },
    {
      "cell_type": "code",
      "metadata": {
        "colab": {
          "base_uri": "https://localhost:8080/"
        },
        "id": "X5OtOO2mttDx",
        "outputId": "fd13a166-bba3-4f19-8c56-20940050b0b8"
      },
      "source": [
        "A = [[1,2,3],[4,5,6]]\n",
        "B = [[-1,0],[0,1],[1,1]]\n",
        "# 2x3 3x2 ------- 2x2 (resultado)\n",
        "C = [ [0,0] , [0,0] ]\n",
        "\n",
        "for i in range(len(A)): # 0-1\n",
        "  for j in range(len(B[0])): # 0-1\n",
        "    for k in range(len(B)): # 0 - 2 \n",
        "      C[i][j] += A[i][k] * B[k][j]\n",
        "\n",
        "print(C)"
      ],
      "execution_count": 52,
      "outputs": [
        {
          "output_type": "stream",
          "name": "stdout",
          "text": [
            "[[2, 5], [2, 11]]\n"
          ]
        }
      ]
    },
    {
      "cell_type": "markdown",
      "metadata": {
        "id": "Yekv81h5JI2h"
      },
      "source": [
        "8. Escribir un programa que pregunte por una muestra de números, separados por comas, los guarde en una lista y muestre por pantalla su media y desviación típica."
      ]
    },
    {
      "cell_type": "code",
      "metadata": {
        "colab": {
          "base_uri": "https://localhost:8080/"
        },
        "id": "mzVNg1luyMEd",
        "outputId": "35108a0e-6d17-46dd-9b48-7c35131f0144"
      },
      "source": [
        "import math \n",
        "import numpy as np \n",
        "\n",
        "n = int(input(\"Ingrese el tamaño de la muestra: \"))\n",
        "datos = []\n",
        "datosCuadrados = []\n",
        "\n",
        "for i in range(n): \n",
        "  m = float(input(\"Ingresa el dato: \"))\n",
        "  datos.append(m)\n",
        "  datosCuadrados.append(m**2)\n",
        "\n",
        "print(\"-------------------\")\n",
        "suma = sum(datos)\n",
        "sumacuadrados = sum(datosCuadrados)\n",
        "\n",
        "promedio = suma/len(datos)\n",
        "\n",
        "print(\"-------------------\")\n",
        "varianza = (sumacuadrados/len(datos))-(promedio**2)\n",
        "devest = varianza**(1/2)\n",
        "\n",
        "print(\"El promedio de los datos será de \" + str(promedio))\n",
        "print(\"La varianza de los datos será de \" + str(varianza))\n",
        "print(\"La desviacion estandar de los datos será de \" + str(devest))\n",
        "\n",
        "print(\"La varianza de los datos será de \" + str(np.var(datos)))\n",
        "print(\"La desviacion estandar de los datos será de \" + str(np.std(datos)))\n",
        "\n",
        "\n",
        "\n"
      ],
      "execution_count": 58,
      "outputs": [
        {
          "output_type": "stream",
          "name": "stdout",
          "text": [
            "Ingrese el tamaño de la muestra: 4\n",
            "Ingresa el dato: 6\n",
            "Ingresa el dato: 5\n",
            "Ingresa el dato: 2\n",
            "Ingresa el dato: 2\n",
            "-------------------\n",
            "-------------------\n",
            "El promedio de los datos será de 3.75\n",
            "La varianza de los datos será de 3.1875\n",
            "La desviacion estandar de los datos será de 1.7853571071357126\n",
            "La varianza de los datos será de 3.1875\n",
            "La desviacion estandar de los datos será de 1.7853571071357126\n"
          ]
        }
      ]
    },
    {
      "cell_type": "markdown",
      "metadata": {
        "id": "PmLun3QgJHDm"
      },
      "source": [
        "# DESAFIO 6 - DICCIONARIOS"
      ]
    },
    {
      "cell_type": "markdown",
      "metadata": {
        "id": "1I9AVqFWJZVq"
      },
      "source": [
        "1. Escribir un programa que guarde en una variable el diccionario {'Euro':'€', 'Dollar':'$', 'Yen':'¥'}, pregunte al usuario por una divisa y muestre su símbolo o un mensaje de aviso si la divisa no está en el diccionario.\n",
        "\n",
        "\n"
      ]
    },
    {
      "cell_type": "code",
      "metadata": {
        "colab": {
          "base_uri": "https://localhost:8080/"
        },
        "id": "XgDcX2Eu8Spy",
        "outputId": "0cd0bcbe-9026-4517-c7d1-9b5b29fc3ba5"
      },
      "source": [
        "divisas = {'Euro':'€', 'Dollar':'$', 'Yen':'¥'}\n",
        "\n",
        "opcion = input(\"Ingrese la divisa que desea consultar: \")\n",
        "\n",
        "if opcion in divisas: \n",
        "  print(divisas.get(opcion))\n",
        "else:\n",
        "  print(\"La opcion no está en el diccionario, ¿Desea agregarla?\")\n",
        "  agg = input(\"S/N:  \")\n",
        "  if agg == 'S':\n",
        "    ndiv = input(\"Ingrese el simbolo de la divisa: \")\n",
        "    divisas[opcion]=ndiv\n",
        "    print(\"¡Divisa agregada!\")\n",
        "    print(\"Nueva estructura del diccionario: \")\n",
        "    print(divisas)\n",
        "  elif agg == 'N':\n",
        "    print(\"Adios\")\n",
        "\n",
        "\n",
        "\n"
      ],
      "execution_count": 64,
      "outputs": [
        {
          "output_type": "stream",
          "name": "stdout",
          "text": [
            "Ingrese la divisa que desea consultar: Peso\n",
            "La opcion no está en el diccionario, ¿Desea agregarla?\n",
            "S/N:  S\n",
            "Ingrese el simbolo de la divisa: COP\n",
            "¡Divisa agregada!\n",
            "Nueva estructura del diccionario: \n",
            "{'Euro': '€', 'Dollar': '$', 'Yen': '¥', 'Peso': 'COP'}\n"
          ]
        }
      ]
    },
    {
      "cell_type": "markdown",
      "metadata": {
        "id": "CnP9Jw4mJaxr"
      },
      "source": [
        "2. Escribir un programa que pregunte al usuario su nombre, edad, dirección y teléfono y lo guarde en un diccionario. Después debe mostrar por pantalla el mensaje <nombre> tiene <edad> años, vive en <dirección> y su número de teléfono es <teléfono>."
      ]
    },
    {
      "cell_type": "code",
      "metadata": {
        "colab": {
          "base_uri": "https://localhost:8080/"
        },
        "id": "9JotPKnc-b2i",
        "outputId": "857a4183-2fbf-4694-9dc9-c9a0aab60e36"
      },
      "source": [
        "personas = {}\n",
        "\n",
        "n = int(input(\"¿cuantas personas deseas agregar?\"))\n",
        "\n",
        "for i in range(n):\n",
        "  p = {}\n",
        "  name = input(\"Ingrese su nombre \")\n",
        "  ciudad = input(\"Ingrese su ciudad \")\n",
        "  edad = input(\"Ingrese su edad\")\n",
        "  tel = input(\"Ingrese su telefono \")\n",
        "  p['nombre'] = name\n",
        "  p['ciudad'] = ciudad\n",
        "  p['edad'] = edad\n",
        "  p['telefono'] = tel\n",
        "\n",
        "  personas[i] = p\n",
        "\n",
        "print(personas)\n",
        "\n",
        "\n",
        "#print(str(p['nombre']) + ' vive en ' + str(p['ciudad']) + ' tiene '+ str(p['edad']) + ' años y su telefono es ' + str(p['telefono']) )\n",
        "\n",
        "\n"
      ],
      "execution_count": 70,
      "outputs": [
        {
          "output_type": "stream",
          "name": "stdout",
          "text": [
            "¿cuantas personas deseas agregar?2\n",
            "Ingrese su nombre fabio\n",
            "Ingrese su ciudad fdsf\n",
            "Ingrese su edad5\n",
            "Ingrese su telefono fsdf\n",
            "Ingrese su nombre polo\n",
            "Ingrese su ciudad fsddf\n",
            "Ingrese su edad342\n",
            "Ingrese su telefono dsfsdf\n",
            "{0: {'nombre': 'fabio', 'ciudad': 'fdsf', 'edad': '5', 'telefono': 'fsdf'}, 1: {'nombre': 'polo', 'ciudad': 'fsddf', 'edad': '342', 'telefono': 'dsfsdf'}}\n"
          ]
        }
      ]
    },
    {
      "cell_type": "markdown",
      "metadata": {
        "id": "osipzcqaJcvG"
      },
      "source": [
        "3. Escribir un programa que guarde en un diccionario los precios de las frutas de la tabla, pregunte al usuario por una fruta, un número de kilos y muestre por pantalla el precio de ese número de kilos de fruta. Si la fruta no está en el diccionario debe mostrar un mensaje informando de ello.\n",
        "\n",
        "Fruta     Precio \n",
        "Platano   1.35\n",
        "Manzana   0.80\n",
        "Pera      0.85\n",
        "Naranja   0.70\n",
        "\n"
      ]
    },
    {
      "cell_type": "code",
      "metadata": {
        "colab": {
          "base_uri": "https://localhost:8080/"
        },
        "id": "7jdikDQuBCj_",
        "outputId": "74324c55-0e01-4da4-aad0-6afea26b98ff"
      },
      "source": [
        "frutas = {'platano':1.35,\n",
        "          'manzana':0.80,\n",
        "          'pera':0.85,\n",
        "          'naranja':0.70}\n",
        "\n",
        "opc = input(\"Ingrese la fruta que desea comprar: \")\n",
        "cantidad = float(input(\"Ingrese la cantidad de kilos: \"))\n",
        "\n",
        "precio = frutas[opc]*cantidad\n",
        "\n",
        "print(\"El precio de la compra será de: \" + str(precio))"
      ],
      "execution_count": 78,
      "outputs": [
        {
          "output_type": "stream",
          "name": "stdout",
          "text": [
            "Ingrese la fruta que desea comprar: pera\n",
            "Ingrese la cantidad de kilos: 8\n",
            "El precio de la compra será de: 6.8\n"
          ]
        }
      ]
    },
    {
      "cell_type": "markdown",
      "metadata": {
        "id": "ZlysZUbkJpHy"
      },
      "source": [
        "4. Escribir un programa que pregunte una fecha en formato dd/mm/aaaa y muestre por pantalla la misma fecha en formato mm/dd/aaaa\n"
      ]
    },
    {
      "cell_type": "code",
      "metadata": {
        "colab": {
          "base_uri": "https://localhost:8080/"
        },
        "id": "jZAkJuq3DSqj",
        "outputId": "0ff38caa-eb11-42ca-9840-e52c077fce50"
      },
      "source": [
        "fecha = input(\"Ingrese la fecha en formato dd/mm/aaaa\")\n",
        "\n",
        "f = fecha.split('/')\n",
        "\n",
        "print(f[1] +\"/\"+f[0]+\"/\"+f[2])"
      ],
      "execution_count": 81,
      "outputs": [
        {
          "output_type": "stream",
          "name": "stdout",
          "text": [
            "Ingrese la fecha en formato dd/mm/aaaa06/11/2021\n",
            "11/06/2021\n"
          ]
        }
      ]
    },
    {
      "cell_type": "markdown",
      "metadata": {
        "id": "enpb8qTnJvFH"
      },
      "source": [
        "5. Escribir un programa que almacene el diccionario con los créditos de las asignaturas de un curso {'Matemáticas': 6, 'Física': 4, 'Química': 5} y después muestre por pantalla los créditos de cada asignatura en el formato <asignatura> tiene <créditos> créditos, donde <asignatura> es cada una de las asignaturas del curso, y <créditos> son sus créditos. Al final debe mostrar también el número total de créditos del curso."
      ]
    },
    {
      "cell_type": "code",
      "metadata": {
        "colab": {
          "base_uri": "https://localhost:8080/"
        },
        "id": "kB0fApKMD9IL",
        "outputId": "88f0158e-6b56-412e-a986-2200df49b5f1"
      },
      "source": [
        "asignaturas = {'Matemáticas': 6, 'Física': 4, 'Química': 5}\n",
        "\n",
        "## Mostrar los créditos \n",
        "asig = list(asignaturas.keys())\n",
        "total = 0\n",
        "notas = 0\n",
        "creditos = 0\n",
        "\n",
        "for i in asig: \n",
        "  print(\"La asignatura \"+ i +\" tiene \" + str(asignaturas[i]) + \" creditos\")\n",
        "  total += asignaturas[i]\n",
        "\n",
        "print(\"El numero total de creditos es de \" + str(total))\n",
        "print(\"\\n\")\n",
        "print(\"\\n\")\n",
        "print(\"Calculo del promedio de calificaciones\")\n",
        "## nota*creditos + nota*creditos......\n",
        "## ---------------------\n",
        "## total de creditos \n",
        "for i in asig: \n",
        "  print(\"Ingrese la nota de la asignatura \" + i)\n",
        "  nota = float(input())\n",
        "  notas += asignaturas[i]*nota \n",
        "  creditos += asignaturas[i]\n",
        "\n",
        "prom = notas/total\n",
        "print(\"El numero total de creditos es de \" + str(total))\n",
        "print(\"El promedio ponderado de las notas es de \" + str(prom))\n",
        "\n"
      ],
      "execution_count": 88,
      "outputs": [
        {
          "output_type": "stream",
          "name": "stdout",
          "text": [
            "La asignatura Matemáticas tiene 6 creditos\n",
            "La asignatura Física tiene 4 creditos\n",
            "La asignatura Química tiene 5 creditos\n",
            "El numero total de creditos es de 15\n",
            "\n",
            "\n",
            "\n",
            "\n",
            "Calculo del promedio de calificaciones\n",
            "Ingrese la nota de la asignatura Matemáticas\n",
            "4.5\n",
            "Ingrese la nota de la asignatura Física\n",
            "4\n",
            "Ingrese la nota de la asignatura Química\n",
            "3.5\n",
            "El numero total de creditos es de 15\n",
            "El promedio ponderado de las notas es de 4.033333333333333\n"
          ]
        }
      ]
    },
    {
      "cell_type": "markdown",
      "metadata": {
        "id": "ETotdHq3J0ed"
      },
      "source": [
        "6. Escribir un programa que cree un diccionario de traducción español-inglés. El usuario introducirá las palabras en español e inglés separadas por dos puntos, y cada par <palabra>:<traducción> separados por comas. El programa debe crear un diccionario con las palabras y sus traducciones. Después pedirá una frase en español y utilizará el diccionario para traducirla palabra a palabra. Si una palabra no está en el diccionario debe dejarla sin traducir."
      ]
    },
    {
      "cell_type": "markdown",
      "metadata": {
        "id": "ts_w6kcnOreS"
      },
      "source": [
        "7. El directorio de los clientes de una empresa está organizado en una cadena de texto como la de más abajo, donde cada línea contiene la información del nombre, email, teléfono, nif, y el descuento que se le aplica. Las líneas se separan con el carácter de cambio de línea \\n y la primera línea contiene los nombres de los campos con la información contenida en el directorio.\n",
        "\n",
        "\"nif;nombre;email;teléfono;descuento\\n01234567L;Luis González;luisgonzalez@mail.com;656343576;12.5\\n71476342J;Macarena Ramírez;macarena@mail.com;692839321;8\\n63823376M;Juan José Martínez;juanjo@mail.com;664888233;5.2\\n98376547F;Carmen Sánchez;carmen@mail.com;667677855;15.7\"\n",
        "\n",
        "Escribir un programa que genere un diccionario con la información del directorio, donde cada elemento corresponda a un cliente y tenga por clave su nif y por valor otro diccionario con el resto de la información del cliente. Los diccionarios con la información de cada cliente tendrán como claves los nombres de los campos y como valores la información de cada cliente correspondientes a los campos. Es decir, un diccionario como el siguiente\n",
        "\n",
        "{'01234567L': {'nombre': 'Luis González', 'email': 'luisgonzalez@mail.com', 'teléfono': '656343576', 'descuento': 12.5}, '71476342J': {'nombre': 'Macarena Ramírez', 'email': 'macarena@mail.com', 'teléfono': '692839321', 'descuento': 8.0}, '63823376M': {'nombre': 'Juan José Martínez', 'email': 'juanjo@mail.com', 'teléfono': '664888233', 'descuento': 5.2}, '98376547F': {'nombre': 'Carmen Sánchez', 'email': 'carmen@mail.com', 'teléfono': '667677855', 'descuento': 15.7}}"
      ]
    },
    {
      "cell_type": "markdown",
      "metadata": {
        "id": "2cQnrFsrRFrw"
      },
      "source": [
        "8. Escribir un programa que permita gestionar la base de datos de clientes de una empresa. Los clientes se guardarán en un diccionario en el que la clave de cada cliente será su NIF, y el valor será otro diccionario con los datos del cliente (nombre, dirección, teléfono, correo, preferente), donde preferente tendrá el valor True si se trata de un cliente preferente. El programa debe preguntar al usuario por una opción del siguiente menú: (1) Añadir cliente, (2) Eliminar cliente, (3) Mostrar cliente, (4) Listar todos los clientes, (5) Listar clientes preferentes, (6) Terminar. En función de la opción elegida el programa tendrá que hacer lo siguiente:\n",
        "\n",
        "Preguntar los datos del cliente, crear un diccionario con los datos y añadirlo a la base de datos.\n",
        "Preguntar por el NIF del cliente y eliminar sus datos de la base de datos.\n",
        "Preguntar por el NIF del cliente y mostrar sus datos.\n",
        "Mostrar lista de todos los clientes de la base datos con su NIF y nombre.\n",
        "Mostrar la lista de clientes preferentes de la base de datos con su NIF y nombre.\n",
        "Terminar el programa."
      ]
    },
    {
      "cell_type": "markdown",
      "metadata": {
        "id": "Ss66BFm2R84m"
      },
      "source": [
        "# DESAFIO 7. FUNCIONES"
      ]
    },
    {
      "cell_type": "markdown",
      "metadata": {
        "id": "ZJkR81r0R_g7"
      },
      "source": [
        "1. Escribir una función que muestre por pantalla el saludo ¡Hola amiga! cada vez que se la invoque."
      ]
    },
    {
      "cell_type": "markdown",
      "metadata": {
        "id": "ZA27DHRhSDjc"
      },
      "source": [
        "2. Escribir una función que reciba un número entero positivo y devuelva su factorial."
      ]
    },
    {
      "cell_type": "markdown",
      "metadata": {
        "id": "rQY3AzmeUKrF"
      },
      "source": [
        "3. Escribir una función que calcule el total de una factura tras aplicarle el IVA. La función debe recibir la cantidad sin IVA y el porcentaje de IVA a aplicar, y devolver el total de la factura. Si se invoca la función sin pasarle el porcentaje de IVA, deberá aplicar un 21%."
      ]
    },
    {
      "cell_type": "markdown",
      "metadata": {
        "id": "Hki_jGhbUNiA"
      },
      "source": [
        "4. Escribir una función que calcule el área de un círculo y otra que calcule el volumen de un cilindro usando la primera función."
      ]
    },
    {
      "cell_type": "markdown",
      "metadata": {
        "id": "vEBrxnlvUP2F"
      },
      "source": [
        "5. Escribir una función que reciba una muestra de números en una lista y devuelva otra lista con sus cuadrados.\n",
        "\n",
        "\n"
      ]
    },
    {
      "cell_type": "markdown",
      "metadata": {
        "id": "RZ20n5ikU9Jr"
      },
      "source": [
        "6. Escribir una función que reciba una muestra de números en una lista y devuelva un diccionario con su media, varianza y desviación típica."
      ]
    },
    {
      "cell_type": "markdown",
      "metadata": {
        "id": "fa3jDcQ6VCyv"
      },
      "source": [
        "7. Escribir un programa que reciba una cadena de caracteres y devuelva un diccionario con cada palabra que contiene y su frecuencia. Escribir otra función que reciba el diccionario generado con la función anterior y devuelva una tupla con la palabra más repetida y su frecuencia."
      ]
    },
    {
      "cell_type": "markdown",
      "metadata": {
        "id": "O_l1y0FuVKQo"
      },
      "source": [
        "## FASE 2"
      ]
    },
    {
      "cell_type": "markdown",
      "metadata": {
        "id": "ZOvIGEk4WiYm"
      },
      "source": [
        "8. Escribir una función que aplique un descuento a un precio y otra que aplique el IVA a un precio. Escribir una tercera función que reciba un diccionario con los precios y porcentajes de una cesta de la compra, y una de las funciones anteriores, y utilice la función pasada para aplicar los descuentos o el IVA a los productos de la cesta y devolver el precio final de la cesta."
      ]
    },
    {
      "cell_type": "markdown",
      "metadata": {
        "id": "0ZA9vtG2WqvG"
      },
      "source": [
        "9. Escribir una función que simule una calculadora científica que permita calcular el seno, coseno, tangente, exponencial y logaritmo neperiano. La función preguntará al usuario el valor y la función a aplicar, y mostrará por pantalla una tabla con los enteros de 1 al valor introducido y el resultado de aplicar la función a esos enteros."
      ]
    },
    {
      "cell_type": "markdown",
      "metadata": {
        "id": "Tj8oI9CHXB8B"
      },
      "source": [
        "10. Escribir una función que reciba otra función y una lista, y devuelva otra lista con el resultado de aplicar la función dada a cada uno de los elementos de la lista."
      ]
    },
    {
      "cell_type": "markdown",
      "metadata": {
        "id": "hol7UrNxXFRx"
      },
      "source": [
        "11. Escribir una función que reciba otra función booleana y una lista, y devuelva otra lista con los elementos de la lista que devuelvan True al aplicarles la función booleana."
      ]
    },
    {
      "cell_type": "markdown",
      "metadata": {
        "id": "RmEydyx3XKA1"
      },
      "source": [
        "12. Escribir una función que reciba una frase y devuelva un diccionario con las palabras que contiene y su longitud."
      ]
    },
    {
      "cell_type": "markdown",
      "metadata": {
        "id": "Z5pFxc-zXNUV"
      },
      "source": [
        "13. Escribir una función reciba una lista de notas y devuelva la lista de calificaciones correspondientes a esas notas."
      ]
    },
    {
      "cell_type": "markdown",
      "metadata": {
        "id": "s-qdldyRaVEE"
      },
      "source": [
        "14. Escribir una función reciba un diccionario con las asignaturas y las notas de un alumno y devuelva otro diccionario con las asignaturas en mayúsculas y las calificaciones correspondientes a las notas."
      ]
    },
    {
      "cell_type": "markdown",
      "metadata": {
        "id": "e9ywt533aWy9"
      },
      "source": [
        "15. Escribir una función que reciba una muestra de números y devuelva los valores atípicos, es decir, los valores cuya puntuación típica sea mayor que 3 o menor que -3. Nota: La puntuación típica de un valor se obtiene restando la media y dividiendo por la desviación típica de la muestra."
      ]
    },
    {
      "cell_type": "markdown",
      "metadata": {
        "id": "wiCiBpDkXMLo"
      },
      "source": [
        ""
      ]
    }
  ]
}