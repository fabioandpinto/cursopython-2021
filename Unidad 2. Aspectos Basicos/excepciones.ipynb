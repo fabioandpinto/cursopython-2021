{
 "cells": [
  {
   "cell_type": "code",
   "execution_count": 16,
   "metadata": {},
   "outputs": [
    {
     "ename": "TypeError",
     "evalue": "unsupported operand type(s) for +: 'int' and 'str'",
     "output_type": "error",
     "traceback": [
      "\u001b[1;31m---------------------------------------------------------------------------\u001b[0m",
      "\u001b[1;31mTypeError\u001b[0m                                 Traceback (most recent call last)",
      "\u001b[1;32m~\\AppData\\Local\\Temp/ipykernel_17624/2328648500.py\u001b[0m in \u001b[0;36m<module>\u001b[1;34m\u001b[0m\n\u001b[0;32m      2\u001b[0m \u001b[0mb\u001b[0m \u001b[1;33m=\u001b[0m \u001b[1;34m\"2\"\u001b[0m\u001b[1;33m\u001b[0m\u001b[1;33m\u001b[0m\u001b[0m\n\u001b[0;32m      3\u001b[0m \u001b[1;33m\u001b[0m\u001b[0m\n\u001b[1;32m----> 4\u001b[1;33m \u001b[0ma\u001b[0m\u001b[1;33m+\u001b[0m\u001b[0mb\u001b[0m\u001b[1;33m\u001b[0m\u001b[1;33m\u001b[0m\u001b[0m\n\u001b[0m",
      "\u001b[1;31mTypeError\u001b[0m: unsupported operand type(s) for +: 'int' and 'str'"
     ]
    }
   ],
   "source": [
    "a = 4 \n",
    "b = \"2\" \n",
    "\n",
    "a+b"
   ]
  },
  {
   "cell_type": "code",
   "execution_count": 11,
   "metadata": {},
   "outputs": [
    {
     "name": "stdout",
     "output_type": "stream",
     "text": [
      "No se puede dividir\n"
     ]
    }
   ],
   "source": [
    "a = int(input(\"Introduzca el primer numero: \"))\n",
    "b = int(input(\"Introduzca el segundo numero: \"))\n",
    "\n",
    "if b != 0:\n",
    "    resultado = a/b \n",
    "    print(resultado)\n",
    "else: \n",
    "    print(\"No se puede dividir\")"
   ]
  },
  {
   "cell_type": "markdown",
   "metadata": {},
   "source": [
    "ZeroDivisionError\n",
    "TypeError\n",
    "ValueError \n",
    "\n",
    "IndexError --- vector[9] \n",
    "KeyError ---- dict['llave']\n",
    "FileNotFoundError -- \n",
    "ImportError --- "
   ]
  },
  {
   "cell_type": "code",
   "execution_count": 18,
   "metadata": {},
   "outputs": [
    {
     "ename": "ValueError",
     "evalue": "invalid literal for int() with base 10: 'fabio'",
     "output_type": "error",
     "traceback": [
      "\u001b[1;31m---------------------------------------------------------------------------\u001b[0m",
      "\u001b[1;31mValueError\u001b[0m                                Traceback (most recent call last)",
      "\u001b[1;32m~\\AppData\\Local\\Temp/ipykernel_17624/221538846.py\u001b[0m in \u001b[0;36m<module>\u001b[1;34m\u001b[0m\n\u001b[0;32m      1\u001b[0m \u001b[1;31m# Try except\u001b[0m\u001b[1;33m\u001b[0m\u001b[1;33m\u001b[0m\u001b[0m\n\u001b[0;32m      2\u001b[0m \u001b[0ma\u001b[0m \u001b[1;33m=\u001b[0m \u001b[0mint\u001b[0m\u001b[1;33m(\u001b[0m\u001b[0minput\u001b[0m\u001b[1;33m(\u001b[0m\u001b[1;34m\"Introduzca el primer numero: \"\u001b[0m\u001b[1;33m)\u001b[0m\u001b[1;33m)\u001b[0m\u001b[1;33m\u001b[0m\u001b[1;33m\u001b[0m\u001b[0m\n\u001b[1;32m----> 3\u001b[1;33m \u001b[0mb\u001b[0m \u001b[1;33m=\u001b[0m \u001b[0mint\u001b[0m\u001b[1;33m(\u001b[0m\u001b[0minput\u001b[0m\u001b[1;33m(\u001b[0m\u001b[1;34m\"Introduzca el segundo numero: \"\u001b[0m\u001b[1;33m)\u001b[0m\u001b[1;33m)\u001b[0m\u001b[1;33m\u001b[0m\u001b[1;33m\u001b[0m\u001b[0m\n\u001b[0m\u001b[0;32m      4\u001b[0m \u001b[1;33m\u001b[0m\u001b[0m\n\u001b[0;32m      5\u001b[0m \u001b[1;32mtry\u001b[0m\u001b[1;33m:\u001b[0m\u001b[1;33m\u001b[0m\u001b[1;33m\u001b[0m\u001b[0m\n",
      "\u001b[1;31mValueError\u001b[0m: invalid literal for int() with base 10: 'fabio'"
     ]
    }
   ],
   "source": [
    "# Try except \n",
    "a = int(input(\"Introduzca el primer numero: \"))\n",
    "b = int(input(\"Introduzca el segundo numero: \"))\n",
    "\n",
    "try: \n",
    "    c = a/b\n",
    "    print(c)\n",
    "except ZeroDivisionError:\n",
    "    print(\"No se puede realizar la division (Division entre cero)\")\n",
    "except TypeError: \n",
    "    print(\"No se puede realizar la division (Problema de tipos)\")\n",
    "except ValueError: \n",
    "    print(\"No se puede realizar la division (Denominador no es un numero)\")\n"
   ]
  },
  {
   "cell_type": "code",
   "execution_count": 25,
   "metadata": {},
   "outputs": [
    {
     "name": "stdout",
     "output_type": "stream",
     "text": [
      "No se puede hacer la division\n"
     ]
    }
   ],
   "source": [
    "try: \n",
    "    c = a/0\n",
    "    print(c)\n",
    "except:\n",
    "    print(\"No se puede hacer la division\")"
   ]
  },
  {
   "cell_type": "code",
   "execution_count": 27,
   "metadata": {},
   "outputs": [
    {
     "name": "stdout",
     "output_type": "stream",
     "text": [
      "0.6666666666666666\n",
      "operacion exitosa\n"
     ]
    }
   ],
   "source": [
    "# try except else \n",
    "a = 2\n",
    "b = 3\n",
    "try: \n",
    "    c = a/b\n",
    "    print(c)\n",
    "except:\n",
    "    print(\"No se puede hacer la division\")\n",
    "else: \n",
    "    print(\"operacion exitosa\")"
   ]
  },
  {
   "cell_type": "code",
   "execution_count": 29,
   "metadata": {},
   "outputs": [
    {
     "name": "stdout",
     "output_type": "stream",
     "text": [
      "Try connection\n",
      "Cierra la conexión\n"
     ]
    }
   ],
   "source": [
    "# try except finally \n",
    "\n",
    "# try \n",
    "# error \n",
    "a = 2\n",
    "b = 3\n",
    "try: \n",
    "    c = a/b\n",
    "    print(\"Try connection\")\n",
    "except:\n",
    "    print(\"Raise Errors\")\n",
    "finally: \n",
    "    print(\"Cierra la conexión\")"
   ]
  },
  {
   "cell_type": "code",
   "execution_count": 47,
   "metadata": {},
   "outputs": [
    {
     "name": "stdout",
     "output_type": "stream",
     "text": [
      "Archivo operado\n"
     ]
    }
   ],
   "source": [
    "## Manejo de archivos \n",
    "import os\n",
    "try: \n",
    "    with open('dato_otro.txt') as file: \n",
    "        read_data = file.readlines()\n",
    "        print(read_data)\n",
    "except:\n",
    "    file = open('dato_otro.txt', 'w')\n",
    "    file.write(\"Este es el contenido del archivo \" + os.linesep)\n",
    "    file.close()\n",
    "finally: \n",
    "    print(\"Archivo operado\")  \n",
    "      "
   ]
  }
 ],
 "metadata": {
  "interpreter": {
   "hash": "5f467eccd37ee2c5c69436611ca8970a1dc6ae868109339fc41fb6d7ba02f1cd"
  },
  "kernelspec": {
   "display_name": "Python 3.10.0 64-bit",
   "language": "python",
   "name": "python3"
  },
  "language_info": {
   "codemirror_mode": {
    "name": "ipython",
    "version": 3
   },
   "file_extension": ".py",
   "mimetype": "text/x-python",
   "name": "python",
   "nbconvert_exporter": "python",
   "pygments_lexer": "ipython3",
   "version": "3.10.0"
  },
  "orig_nbformat": 4
 },
 "nbformat": 4,
 "nbformat_minor": 2
}
